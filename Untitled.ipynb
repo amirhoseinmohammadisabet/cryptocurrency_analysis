{
 "cells": [
  {
   "cell_type": "code",
   "execution_count": 12,
   "id": "06dea541",
   "metadata": {},
   "outputs": [
    {
     "name": "stdout",
     "output_type": "stream",
     "text": [
      "             timestamp         price    market_cap  total_volume\n",
      "0  2023-11-20 00:00:00  30033.784860  5.880619e+11  1.011380e+10\n",
      "1  2023-11-21 00:00:00  29969.844941  5.856867e+11  1.279501e+10\n",
      "2  2023-11-22 00:00:00  28670.218596  5.601381e+11  1.505959e+10\n",
      "3  2023-11-23 00:00:00  29991.310594  5.861629e+11  2.020926e+10\n",
      "4  2023-11-24 00:00:00  29754.919792  5.814892e+11  9.539275e+09\n",
      "..                 ...           ...           ...           ...\n",
      "56 2024-01-15 00:00:00  32819.166386  6.459532e+11  1.332284e+10\n",
      "57 2024-01-16 00:00:00  33490.681061  6.568434e+11  1.779979e+10\n",
      "58 2024-01-17 00:00:00  34145.688877  6.694750e+11  1.742826e+10\n",
      "59 2024-01-18 00:00:00  33696.365519  6.601818e+11  1.680253e+10\n",
      "60 2024-01-18 18:48:51  32678.721165  6.414419e+11  1.499998e+10\n",
      "\n",
      "[61 rows x 4 columns]\n"
     ]
    }
   ],
   "source": [
    "import requests\n",
    "import pandas as pd\n",
    "from datetime import datetime, timedelta\n",
    "\n",
    "def get_btc_price_data(days, coin):\n",
    "    base_url = \"https://api.coingecko.com/api/v3/coins/\"\n",
    "    vs_currency = \"gbp\"\n",
    "\n",
    "    endpoint = f\"{base_url}/{coin}/market_chart?vs_currency={vs_currency}&days={days}&interval=daily\"\n",
    "\n",
    "    response = requests.get(endpoint)\n",
    "\n",
    "    if response.status_code == 200:\n",
    "        data = response.json()\n",
    "        prices = data[\"prices\"]\n",
    "        market_caps = data[\"market_caps\"]\n",
    "        total_volumes = data[\"total_volumes\"]\n",
    "\n",
    "        df_prices = pd.DataFrame(prices, columns=[\"timestamp\", \"price\"])\n",
    "        df_prices[\"timestamp\"] = pd.to_datetime(df_prices[\"timestamp\"], unit=\"ms\")\n",
    "\n",
    "        df_market_caps = pd.DataFrame(market_caps, columns=[\"timestamp\", \"market_cap\"])\n",
    "        df_market_caps[\"timestamp\"] = pd.to_datetime(df_market_caps[\"timestamp\"], unit=\"ms\")\n",
    "\n",
    "        df_total_volumes = pd.DataFrame(total_volumes, columns=[\"timestamp\", \"total_volume\"])\n",
    "        df_total_volumes[\"timestamp\"] = pd.to_datetime(df_total_volumes[\"timestamp\"], unit=\"ms\")\n",
    "\n",
    "        # Merge the dataframes on the timestamp\n",
    "        df = pd.merge(df_prices, df_market_caps, on=\"timestamp\")\n",
    "        df = pd.merge(df, df_total_volumes, on=\"timestamp\")\n",
    "\n",
    "        return df\n",
    "    else:\n",
    "        print(f\"Error: {response.status_code}\")\n",
    "        print(response.text)\n",
    "        return None\n",
    "\n",
    "# Example usage:\n",
    "btc_data = get_btc_price_data(days=60, coin=\"bitcoin\")\n",
    "print(btc_data)\n"
   ]
  },
  {
   "cell_type": "code",
   "execution_count": null,
   "id": "5453d7f2",
   "metadata": {},
   "outputs": [],
   "source": [
    "\n",
    "\n"
   ]
  }
 ],
 "metadata": {
  "kernelspec": {
   "display_name": "Python 3 (ipykernel)",
   "language": "python",
   "name": "python3"
  },
  "language_info": {
   "codemirror_mode": {
    "name": "ipython",
    "version": 3
   },
   "file_extension": ".py",
   "mimetype": "text/x-python",
   "name": "python",
   "nbconvert_exporter": "python",
   "pygments_lexer": "ipython3",
   "version": "3.11.5"
  }
 },
 "nbformat": 4,
 "nbformat_minor": 5
}
